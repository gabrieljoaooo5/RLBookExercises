{
 "cells": [
  {
   "cell_type": "markdown",
   "metadata": {},
   "source": [
    "### Q: Greedy Play - Supose the reinforcement learning player was greedy, that is, it always played the move that brought it to the position that it rated the best. Might it learn to play better, or worse, than a nongreedy player? What problems might occur?"
   ]
  },
  {
   "cell_type": "markdown",
   "metadata": {},
   "source": [
    "Ele aprenderá pior, o grande problema de apenas selecionar os melhores lances, baseado no que ele sabe até o momento, é que tal comportamento reforça o caminhamento apenas pelas possibilidades já conhecidas que melhor performaram até então. Logo, o **player** aprenderá algo novo em duas circunstâncias:\n",
    "    1. Quando o adversário conduzir o jogo para uma posição que o player desconhece, ou seja, ele terá que jogar algo \"novo\", ou;\n",
    "    2. Quando um caminho já reforçado, que possuí o melhor valor, sofrer a circustância 1 e sua pontuação se tornar inferior, ocasionado pela descoberta de novas possibilidades que resultam em resultados ruins.\n",
    "    \n",
    "Desconsiderando tais casos, o **player** estará caminhando através daquelas possibilidades já conhecidas que são consideradas boas, isso limita o potencial de descoberta, fazendo com que possíveis jogadas mais promissoras não sejam, ou com muita dificuldade, descobertas. Além disso, as novas possibilidades causadas pelas jogadas do **adversário** podem estar conduzindo para derrotas constantes, sendo assim o aprendizado além de ineficiente pode não ser muito proveitoso."
   ]
  },
  {
   "cell_type": "code",
   "execution_count": null,
   "metadata": {},
   "outputs": [],
   "source": []
  }
 ],
 "metadata": {
  "kernelspec": {
   "display_name": "Python 2",
   "language": "python",
   "name": "python2"
  },
  "language_info": {
   "codemirror_mode": {
    "name": "ipython",
    "version": 3
   },
   "file_extension": ".py",
   "mimetype": "text/x-python",
   "name": "python",
   "nbconvert_exporter": "python",
   "pygments_lexer": "ipython3",
   "version": "3.7.3"
  }
 },
 "nbformat": 4,
 "nbformat_minor": 2
}
